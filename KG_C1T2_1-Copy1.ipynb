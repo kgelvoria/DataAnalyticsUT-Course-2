{
 "cells": [
  {
   "cell_type": "code",
   "execution_count": 1,
   "id": "aa679760",
   "metadata": {},
   "outputs": [],
   "source": [
    "import numpy as np\n",
    "import pandas as pd\n",
    "import pandas_profiling\n",
    "from pandas import Series, DataFrame\n",
    "import matplotlib as mpl\n",
    "import matplotlib.pyplot as plt\n",
    "import seaborn as sns \n",
    "import sklearn.datasets\n",
    "from sklearn.tree import plot_tree\n",
    "%matplotlib inline"
   ]
  },
  {
   "cell_type": "code",
   "execution_count": 2,
   "id": "4e6ebec0",
   "metadata": {},
   "outputs": [],
   "source": [
    "from sklearn.preprocessing import MinMaxScaler\n",
    "from sklearn.ensemble import RandomForestClassifier\n",
    "from sklearn.neighbors import KNeighborsClassifier\n",
    "from sklearn.svm import SVC\n",
    "from sklearn.tree import DecisionTreeClassifier\n",
    "from sklearn.linear_model import LogisticRegression\n",
    "from sklearn.ensemble import StackingClassifier\n",
    "from sklearn.model_selection import GridSearchCV\n",
    "from sklearn.pipeline import Pipeline\n",
    "from sklearn.model_selection import train_test_split\n",
    "from sklearn.naive_bayes import MultinomialNB\n",
    "from sklearn.preprocessing import KBinsDiscretizer\n",
    "from collections import Counter\n",
    "\n",
    "#Metrics Phase\n",
    "from sklearn import metrics\n",
    "from sklearn.metrics import classification_report, accuracy_score, confusion_matrix, roc_auc_score, roc_curve\n",
    "from sklearn.model_selection import cross_val_score"
   ]
  },
  {
   "cell_type": "code",
   "execution_count": 3,
   "id": "79254b2c",
   "metadata": {},
   "outputs": [],
   "source": [
    "from sklearn.model_selection import train_test_split\n",
    "from sklearn.metrics import accuracy_score, classification_report\n",
    "from sklearn.ensemble import RandomForestClassifier, GradientBoostingClassifier\n",
    "from sklearn.tree import DecisionTreeClassifier\n",
    "from sklearn.model_selection import cross_val_score"
   ]
  },
  {
   "cell_type": "code",
   "execution_count": 4,
   "id": "c70f06b4",
   "metadata": {},
   "outputs": [
    {
     "data": {
      "text/html": [
       "<div>\n",
       "<style scoped>\n",
       "    .dataframe tbody tr th:only-of-type {\n",
       "        vertical-align: middle;\n",
       "    }\n",
       "\n",
       "    .dataframe tbody tr th {\n",
       "        vertical-align: top;\n",
       "    }\n",
       "\n",
       "    .dataframe thead th {\n",
       "        text-align: right;\n",
       "    }\n",
       "</style>\n",
       "<table border=\"1\" class=\"dataframe\">\n",
       "  <thead>\n",
       "    <tr style=\"text-align: right;\">\n",
       "      <th></th>\n",
       "      <th>in-store</th>\n",
       "      <th>age</th>\n",
       "      <th>items</th>\n",
       "      <th>amount</th>\n",
       "      <th>region</th>\n",
       "    </tr>\n",
       "  </thead>\n",
       "  <tbody>\n",
       "    <tr>\n",
       "      <th>0</th>\n",
       "      <td>0</td>\n",
       "      <td>37</td>\n",
       "      <td>4</td>\n",
       "      <td>281.03</td>\n",
       "      <td>2</td>\n",
       "    </tr>\n",
       "    <tr>\n",
       "      <th>1</th>\n",
       "      <td>0</td>\n",
       "      <td>35</td>\n",
       "      <td>2</td>\n",
       "      <td>219.51</td>\n",
       "      <td>2</td>\n",
       "    </tr>\n",
       "    <tr>\n",
       "      <th>2</th>\n",
       "      <td>1</td>\n",
       "      <td>45</td>\n",
       "      <td>3</td>\n",
       "      <td>1525.70</td>\n",
       "      <td>4</td>\n",
       "    </tr>\n",
       "    <tr>\n",
       "      <th>3</th>\n",
       "      <td>1</td>\n",
       "      <td>46</td>\n",
       "      <td>3</td>\n",
       "      <td>715.25</td>\n",
       "      <td>3</td>\n",
       "    </tr>\n",
       "    <tr>\n",
       "      <th>4</th>\n",
       "      <td>1</td>\n",
       "      <td>33</td>\n",
       "      <td>4</td>\n",
       "      <td>1937.50</td>\n",
       "      <td>1</td>\n",
       "    </tr>\n",
       "  </tbody>\n",
       "</table>\n",
       "</div>"
      ],
      "text/plain": [
       "   in-store  age  items   amount  region\n",
       "0         0   37      4   281.03       2\n",
       "1         0   35      2   219.51       2\n",
       "2         1   45      3  1525.70       4\n",
       "3         1   46      3   715.25       3\n",
       "4         1   33      4  1937.50       1"
      ]
     },
     "execution_count": 4,
     "metadata": {},
     "output_type": "execute_result"
    }
   ],
   "source": [
    "df = pd.read_csv('Demographic_Data.csv')\n",
    "df.head()"
   ]
  },
  {
   "cell_type": "code",
   "execution_count": 5,
   "id": "fcddf3d3",
   "metadata": {},
   "outputs": [
    {
     "name": "stdout",
     "output_type": "stream",
     "text": [
      "<class 'pandas.core.frame.DataFrame'>\n",
      "RangeIndex: 80000 entries, 0 to 79999\n",
      "Data columns (total 5 columns):\n",
      " #   Column    Non-Null Count  Dtype  \n",
      "---  ------    --------------  -----  \n",
      " 0   in-store  80000 non-null  int64  \n",
      " 1   age       80000 non-null  int64  \n",
      " 2   items     80000 non-null  int64  \n",
      " 3   amount    80000 non-null  float64\n",
      " 4   region    80000 non-null  int64  \n",
      "dtypes: float64(1), int64(4)\n",
      "memory usage: 3.1 MB\n"
     ]
    }
   ],
   "source": [
    "df.info()"
   ]
  },
  {
   "cell_type": "code",
   "execution_count": 6,
   "id": "393080d9",
   "metadata": {},
   "outputs": [
    {
     "data": {
      "text/plain": [
       "[1, 9, 19, 29, 39, 49, 59, 69, 79, 89]"
      ]
     },
     "execution_count": 6,
     "metadata": {},
     "output_type": "execute_result"
    }
   ],
   "source": [
    "#Preprocessing\n",
    "#Discretize age and creating array by dicing\n",
    "#Fav linkage: https://pbpython.com/pandas-qcut-cut.html\n",
    "custom_bucket_array = ([1, 9, 19, 29, 39, 49, 59, 69, 79, 89])\n",
    "custom_bucket_array"
   ]
  },
  {
   "cell_type": "code",
   "execution_count": 7,
   "id": "47c06da6",
   "metadata": {},
   "outputs": [
    {
     "name": "stdout",
     "output_type": "stream",
     "text": [
      "<class 'pandas.core.frame.DataFrame'>\n",
      "RangeIndex: 80000 entries, 0 to 79999\n",
      "Data columns (total 6 columns):\n",
      " #   Column        Non-Null Count  Dtype  \n",
      "---  ------        --------------  -----  \n",
      " 0   in-store      80000 non-null  int64  \n",
      " 1   age           80000 non-null  int64  \n",
      " 2   items         80000 non-null  int64  \n",
      " 3   amount        80000 non-null  float64\n",
      " 4   region        80000 non-null  int64  \n",
      " 5   amount_label  80000 non-null  int64  \n",
      "dtypes: float64(1), int64(5)\n",
      "memory usage: 3.7 MB\n"
     ]
    }
   ],
   "source": [
    "custom_bucket_arrayb = (0, 1000, 2000, 3000)\n",
    "df['amount_label'] = pd.cut(df['amount'], custom_bucket_arrayb, labels = False)\n",
    "df.info()"
   ]
  },
  {
   "cell_type": "markdown",
   "id": "06a4ec6f",
   "metadata": {},
   "source": [
    "### In order to analyze the feature of amounts, the data had to be sliced via an array of bucketed ages"
   ]
  },
  {
   "cell_type": "code",
   "execution_count": 8,
   "id": "ac6414e5",
   "metadata": {},
   "outputs": [
    {
     "name": "stdout",
     "output_type": "stream",
     "text": [
      "<class 'pandas.core.frame.DataFrame'>\n",
      "RangeIndex: 80000 entries, 0 to 79999\n",
      "Data columns (total 7 columns):\n",
      " #   Column        Non-Null Count  Dtype  \n",
      "---  ------        --------------  -----  \n",
      " 0   in-store      80000 non-null  int64  \n",
      " 1   age           80000 non-null  int64  \n",
      " 2   items         80000 non-null  int64  \n",
      " 3   amount        80000 non-null  float64\n",
      " 4   region        80000 non-null  int64  \n",
      " 5   amount_label  80000 non-null  int64  \n",
      " 6   age_label     80000 non-null  int64  \n",
      "dtypes: float64(1), int64(6)\n",
      "memory usage: 4.3 MB\n"
     ]
    }
   ],
   "source": [
    "df['age_label'] = pd.cut(df['age'], custom_bucket_array, labels = False)\n",
    "df.info()"
   ]
  },
  {
   "cell_type": "markdown",
   "id": "63acf657",
   "metadata": {},
   "source": [
    "### In order to analyze the feature of age, the data had to be sliced via an array of bucketed ages"
   ]
  },
  {
   "cell_type": "code",
   "execution_count": 9,
   "id": "d48f661f",
   "metadata": {},
   "outputs": [
    {
     "data": {
      "text/html": [
       "<div>\n",
       "<style scoped>\n",
       "    .dataframe tbody tr th:only-of-type {\n",
       "        vertical-align: middle;\n",
       "    }\n",
       "\n",
       "    .dataframe tbody tr th {\n",
       "        vertical-align: top;\n",
       "    }\n",
       "\n",
       "    .dataframe thead th {\n",
       "        text-align: right;\n",
       "    }\n",
       "</style>\n",
       "<table border=\"1\" class=\"dataframe\">\n",
       "  <thead>\n",
       "    <tr style=\"text-align: right;\">\n",
       "      <th></th>\n",
       "      <th>in-store</th>\n",
       "      <th>age</th>\n",
       "      <th>items</th>\n",
       "      <th>amount</th>\n",
       "      <th>region</th>\n",
       "      <th>amount_label</th>\n",
       "      <th>age_label</th>\n",
       "    </tr>\n",
       "  </thead>\n",
       "  <tbody>\n",
       "    <tr>\n",
       "      <th>0</th>\n",
       "      <td>0</td>\n",
       "      <td>37</td>\n",
       "      <td>4</td>\n",
       "      <td>281.0300</td>\n",
       "      <td>2</td>\n",
       "      <td>0</td>\n",
       "      <td>3</td>\n",
       "    </tr>\n",
       "    <tr>\n",
       "      <th>1</th>\n",
       "      <td>0</td>\n",
       "      <td>35</td>\n",
       "      <td>2</td>\n",
       "      <td>219.5100</td>\n",
       "      <td>2</td>\n",
       "      <td>0</td>\n",
       "      <td>3</td>\n",
       "    </tr>\n",
       "    <tr>\n",
       "      <th>2</th>\n",
       "      <td>1</td>\n",
       "      <td>45</td>\n",
       "      <td>3</td>\n",
       "      <td>1525.7000</td>\n",
       "      <td>4</td>\n",
       "      <td>1</td>\n",
       "      <td>4</td>\n",
       "    </tr>\n",
       "    <tr>\n",
       "      <th>3</th>\n",
       "      <td>1</td>\n",
       "      <td>46</td>\n",
       "      <td>3</td>\n",
       "      <td>715.2500</td>\n",
       "      <td>3</td>\n",
       "      <td>0</td>\n",
       "      <td>4</td>\n",
       "    </tr>\n",
       "    <tr>\n",
       "      <th>4</th>\n",
       "      <td>1</td>\n",
       "      <td>33</td>\n",
       "      <td>4</td>\n",
       "      <td>1937.5000</td>\n",
       "      <td>1</td>\n",
       "      <td>1</td>\n",
       "      <td>3</td>\n",
       "    </tr>\n",
       "    <tr>\n",
       "      <th>5</th>\n",
       "      <td>0</td>\n",
       "      <td>24</td>\n",
       "      <td>3</td>\n",
       "      <td>1314.2000</td>\n",
       "      <td>4</td>\n",
       "      <td>1</td>\n",
       "      <td>2</td>\n",
       "    </tr>\n",
       "    <tr>\n",
       "      <th>6</th>\n",
       "      <td>0</td>\n",
       "      <td>43</td>\n",
       "      <td>6</td>\n",
       "      <td>8.5472</td>\n",
       "      <td>2</td>\n",
       "      <td>0</td>\n",
       "      <td>4</td>\n",
       "    </tr>\n",
       "    <tr>\n",
       "      <th>7</th>\n",
       "      <td>1</td>\n",
       "      <td>66</td>\n",
       "      <td>5</td>\n",
       "      <td>819.9800</td>\n",
       "      <td>3</td>\n",
       "      <td>0</td>\n",
       "      <td>6</td>\n",
       "    </tr>\n",
       "    <tr>\n",
       "      <th>8</th>\n",
       "      <td>1</td>\n",
       "      <td>51</td>\n",
       "      <td>5</td>\n",
       "      <td>908.3100</td>\n",
       "      <td>1</td>\n",
       "      <td>0</td>\n",
       "      <td>5</td>\n",
       "    </tr>\n",
       "    <tr>\n",
       "      <th>9</th>\n",
       "      <td>1</td>\n",
       "      <td>47</td>\n",
       "      <td>3</td>\n",
       "      <td>767.5400</td>\n",
       "      <td>1</td>\n",
       "      <td>0</td>\n",
       "      <td>4</td>\n",
       "    </tr>\n",
       "    <tr>\n",
       "      <th>10</th>\n",
       "      <td>1</td>\n",
       "      <td>44</td>\n",
       "      <td>5</td>\n",
       "      <td>122.3900</td>\n",
       "      <td>3</td>\n",
       "      <td>0</td>\n",
       "      <td>4</td>\n",
       "    </tr>\n",
       "    <tr>\n",
       "      <th>11</th>\n",
       "      <td>1</td>\n",
       "      <td>33</td>\n",
       "      <td>2</td>\n",
       "      <td>684.3200</td>\n",
       "      <td>1</td>\n",
       "      <td>0</td>\n",
       "      <td>3</td>\n",
       "    </tr>\n",
       "    <tr>\n",
       "      <th>12</th>\n",
       "      <td>0</td>\n",
       "      <td>32</td>\n",
       "      <td>2</td>\n",
       "      <td>58.9970</td>\n",
       "      <td>2</td>\n",
       "      <td>0</td>\n",
       "      <td>3</td>\n",
       "    </tr>\n",
       "    <tr>\n",
       "      <th>13</th>\n",
       "      <td>1</td>\n",
       "      <td>48</td>\n",
       "      <td>7</td>\n",
       "      <td>529.5700</td>\n",
       "      <td>3</td>\n",
       "      <td>0</td>\n",
       "      <td>4</td>\n",
       "    </tr>\n",
       "    <tr>\n",
       "      <th>14</th>\n",
       "      <td>1</td>\n",
       "      <td>34</td>\n",
       "      <td>6</td>\n",
       "      <td>270.4900</td>\n",
       "      <td>4</td>\n",
       "      <td>0</td>\n",
       "      <td>3</td>\n",
       "    </tr>\n",
       "    <tr>\n",
       "      <th>15</th>\n",
       "      <td>0</td>\n",
       "      <td>43</td>\n",
       "      <td>7</td>\n",
       "      <td>1585.1000</td>\n",
       "      <td>3</td>\n",
       "      <td>1</td>\n",
       "      <td>4</td>\n",
       "    </tr>\n",
       "    <tr>\n",
       "      <th>16</th>\n",
       "      <td>1</td>\n",
       "      <td>20</td>\n",
       "      <td>7</td>\n",
       "      <td>1901.3000</td>\n",
       "      <td>1</td>\n",
       "      <td>1</td>\n",
       "      <td>2</td>\n",
       "    </tr>\n",
       "    <tr>\n",
       "      <th>17</th>\n",
       "      <td>1</td>\n",
       "      <td>43</td>\n",
       "      <td>4</td>\n",
       "      <td>165.4800</td>\n",
       "      <td>3</td>\n",
       "      <td>0</td>\n",
       "      <td>4</td>\n",
       "    </tr>\n",
       "    <tr>\n",
       "      <th>18</th>\n",
       "      <td>0</td>\n",
       "      <td>35</td>\n",
       "      <td>2</td>\n",
       "      <td>2791.6000</td>\n",
       "      <td>4</td>\n",
       "      <td>2</td>\n",
       "      <td>3</td>\n",
       "    </tr>\n",
       "    <tr>\n",
       "      <th>19</th>\n",
       "      <td>0</td>\n",
       "      <td>58</td>\n",
       "      <td>7</td>\n",
       "      <td>1225.8000</td>\n",
       "      <td>4</td>\n",
       "      <td>1</td>\n",
       "      <td>5</td>\n",
       "    </tr>\n",
       "  </tbody>\n",
       "</table>\n",
       "</div>"
      ],
      "text/plain": [
       "    in-store  age  items     amount  region  amount_label  age_label\n",
       "0          0   37      4   281.0300       2             0          3\n",
       "1          0   35      2   219.5100       2             0          3\n",
       "2          1   45      3  1525.7000       4             1          4\n",
       "3          1   46      3   715.2500       3             0          4\n",
       "4          1   33      4  1937.5000       1             1          3\n",
       "5          0   24      3  1314.2000       4             1          2\n",
       "6          0   43      6     8.5472       2             0          4\n",
       "7          1   66      5   819.9800       3             0          6\n",
       "8          1   51      5   908.3100       1             0          5\n",
       "9          1   47      3   767.5400       1             0          4\n",
       "10         1   44      5   122.3900       3             0          4\n",
       "11         1   33      2   684.3200       1             0          3\n",
       "12         0   32      2    58.9970       2             0          3\n",
       "13         1   48      7   529.5700       3             0          4\n",
       "14         1   34      6   270.4900       4             0          3\n",
       "15         0   43      7  1585.1000       3             1          4\n",
       "16         1   20      7  1901.3000       1             1          2\n",
       "17         1   43      4   165.4800       3             0          4\n",
       "18         0   35      2  2791.6000       4             2          3\n",
       "19         0   58      7  1225.8000       4             1          5"
      ]
     },
     "execution_count": 9,
     "metadata": {},
     "output_type": "execute_result"
    }
   ],
   "source": [
    "df.head(20)"
   ]
  },
  {
   "cell_type": "code",
   "execution_count": 10,
   "id": "edfc18f2",
   "metadata": {},
   "outputs": [],
   "source": [
    "df = df.drop(columns = ['age'])"
   ]
  },
  {
   "cell_type": "code",
   "execution_count": 11,
   "id": "259a7b5d",
   "metadata": {},
   "outputs": [],
   "source": [
    "df = df.drop(columns = ['amount'])"
   ]
  },
  {
   "cell_type": "code",
   "execution_count": 12,
   "id": "96270111",
   "metadata": {},
   "outputs": [
    {
     "data": {
      "text/html": [
       "<div>\n",
       "<style scoped>\n",
       "    .dataframe tbody tr th:only-of-type {\n",
       "        vertical-align: middle;\n",
       "    }\n",
       "\n",
       "    .dataframe tbody tr th {\n",
       "        vertical-align: top;\n",
       "    }\n",
       "\n",
       "    .dataframe thead th {\n",
       "        text-align: right;\n",
       "    }\n",
       "</style>\n",
       "<table border=\"1\" class=\"dataframe\">\n",
       "  <thead>\n",
       "    <tr style=\"text-align: right;\">\n",
       "      <th></th>\n",
       "      <th>in-store</th>\n",
       "      <th>items</th>\n",
       "      <th>region</th>\n",
       "      <th>amount_label</th>\n",
       "      <th>age_label</th>\n",
       "    </tr>\n",
       "  </thead>\n",
       "  <tbody>\n",
       "    <tr>\n",
       "      <th>0</th>\n",
       "      <td>0</td>\n",
       "      <td>4</td>\n",
       "      <td>2</td>\n",
       "      <td>0</td>\n",
       "      <td>3</td>\n",
       "    </tr>\n",
       "    <tr>\n",
       "      <th>1</th>\n",
       "      <td>0</td>\n",
       "      <td>2</td>\n",
       "      <td>2</td>\n",
       "      <td>0</td>\n",
       "      <td>3</td>\n",
       "    </tr>\n",
       "    <tr>\n",
       "      <th>2</th>\n",
       "      <td>1</td>\n",
       "      <td>3</td>\n",
       "      <td>4</td>\n",
       "      <td>1</td>\n",
       "      <td>4</td>\n",
       "    </tr>\n",
       "    <tr>\n",
       "      <th>3</th>\n",
       "      <td>1</td>\n",
       "      <td>3</td>\n",
       "      <td>3</td>\n",
       "      <td>0</td>\n",
       "      <td>4</td>\n",
       "    </tr>\n",
       "    <tr>\n",
       "      <th>4</th>\n",
       "      <td>1</td>\n",
       "      <td>4</td>\n",
       "      <td>1</td>\n",
       "      <td>1</td>\n",
       "      <td>3</td>\n",
       "    </tr>\n",
       "  </tbody>\n",
       "</table>\n",
       "</div>"
      ],
      "text/plain": [
       "   in-store  items  region  amount_label  age_label\n",
       "0         0      4       2             0          3\n",
       "1         0      2       2             0          3\n",
       "2         1      3       4             1          4\n",
       "3         1      3       3             0          4\n",
       "4         1      4       1             1          3"
      ]
     },
     "execution_count": 12,
     "metadata": {},
     "output_type": "execute_result"
    }
   ],
   "source": [
    "df.head()"
   ]
  },
  {
   "cell_type": "code",
   "execution_count": 13,
   "id": "202ce866",
   "metadata": {},
   "outputs": [],
   "source": [
    "#Modeling\n",
    "algos_class = []\n",
    "algos_class.append(('Decision Tree Classifier', DecisionTreeClassifier()))\n",
    "algos_class.append(('Random Tree Classifier', RandomForestClassifier()))\n",
    "algos_class.append(('K Nearest Neighbors', KNeighborsClassifier(n_neighbors=3)))"
   ]
  },
  {
   "cell_type": "code",
   "execution_count": 14,
   "id": "bd889a7d",
   "metadata": {},
   "outputs": [
    {
     "name": "stdout",
     "output_type": "stream",
     "text": [
      "   region  items  amount_label  age_label\n",
      "0       2      4             0          3\n",
      "1       2      2             0          3\n",
      "2       4      3             1          4\n",
      "3       3      3             0          4\n",
      "4       1      4             1          3\n",
      "0    0\n",
      "1    0\n",
      "2    1\n",
      "3    1\n",
      "4    1\n",
      "Name: in-store, dtype: int64\n"
     ]
    }
   ],
   "source": [
    "#Dependent variable of In-store\n",
    "x = df[['region', 'items', 'amount_label', 'age_label']]\n",
    "print(x.head())\n",
    "\n",
    "y = df['in-store']\n",
    "print(y.head())"
   ]
  },
  {
   "cell_type": "code",
   "execution_count": 15,
   "id": "9fdd94a3",
   "metadata": {},
   "outputs": [
    {
     "name": "stdout",
     "output_type": "stream",
     "text": [
      "Data shape (56000, 4) (56000,)\n"
     ]
    }
   ],
   "source": [
    "#Train and test for in-store dependent variable\n",
    "x_train, x_test, y_train, y_test = train_test_split(x, y, test_size = .30, random_state = 123)\n",
    "\n",
    "print('Data shape', x_train.shape, y_train.shape)"
   ]
  },
  {
   "cell_type": "markdown",
   "id": "798be9fd",
   "metadata": {},
   "source": [
    "### Multiple errors in training and testing. Needed to ensure that the correct train and test variables were being utilized. Must also ensure a viable split is being done so that the train set has enough data and test set can have enough to validate the algorithm predictions."
   ]
  },
  {
   "cell_type": "code",
   "execution_count": 16,
   "id": "0d9a6ce3",
   "metadata": {},
   "outputs": [
    {
     "name": "stdout",
     "output_type": "stream",
     "text": [
      "Decision Tree Classifier 0.8774583333333332\n",
      "Random Tree Classifier 0.8774166666666666\n",
      "K Nearest Neighbors 0.8478749999999999\n"
     ]
    }
   ],
   "source": [
    "#Classification\n",
    "results = []\n",
    "names = []\n",
    "\n",
    "for name, model in algos_class:\n",
    "    result = cross_val_score (model, x_test, y_test, cv=5, scoring ='accuracy')\n",
    "    names.append(name)\n",
    "    results.append(result)\n",
    "    \n",
    "for i in range(len(names)):\n",
    "    print(names[i], results[i].mean())"
   ]
  },
  {
   "cell_type": "code",
   "execution_count": 17,
   "id": "81e179b9",
   "metadata": {},
   "outputs": [
    {
     "name": "stdout",
     "output_type": "stream",
     "text": [
      "[array([0.87770833, 0.87541667, 0.87729167, 0.881875  , 0.875     ]), array([0.876875  , 0.87458333, 0.87875   , 0.881875  , 0.875     ]), array([0.834375  , 0.84166667, 0.86270833, 0.85833333, 0.84229167])]\n",
      "['Decision Tree Classifier', 'Random Tree Classifier', 'K Nearest Neighbors']\n",
      "K Nearest Neighbors\n",
      "KNeighborsClassifier(n_neighbors=3)\n",
      "[0.834375   0.84166667 0.86270833 0.85833333 0.84229167]\n"
     ]
    }
   ],
   "source": [
    "print(results)\n",
    "print(names)\n",
    "print(name)\n",
    "print(model)\n",
    "print(result)"
   ]
  },
  {
   "cell_type": "code",
   "execution_count": 18,
   "id": "883d1044",
   "metadata": {},
   "outputs": [
    {
     "name": "stdout",
     "output_type": "stream",
     "text": [
      "              precision    recall  f1-score   support\n",
      "\n",
      "           0       1.00      0.67      0.81     11831\n",
      "           1       0.76      1.00      0.86     12169\n",
      "\n",
      "    accuracy                           0.84     24000\n",
      "   macro avg       0.88      0.84      0.83     24000\n",
      "weighted avg       0.88      0.84      0.83     24000\n",
      "\n"
     ]
    }
   ],
   "source": [
    "#Modeling classification PoA needs () after decision tree\n",
    "algo = DecisionTreeClassifier(max_depth=3)\n",
    "dtcFit1 = algo.fit(x_train, y_train)\n",
    "\n",
    "#Prediction and report\n",
    "preds = dtcFit1.predict(x_test)\n",
    "print(classification_report(y_test, preds))"
   ]
  },
  {
   "cell_type": "code",
   "execution_count": 19,
   "id": "be098d50",
   "metadata": {},
   "outputs": [
    {
     "data": {
      "image/png": "[encoded data removed]",
      "text/plain": [
       "<Figure size 720x720 with 1 Axes>"
      ]
     },
     "metadata": {
      "needs_background": "light"
     },
     "output_type": "display_data"
    }
   ],
   "source": [
    "plt.figure(figsize=(10,10))\n",
    "plot_tree(dtcFit1,\n",
    "         feature_names = x.columns,\n",
    "         class_names =['online','in-store'],\n",
    "          filled = True,\n",
    "          fontsize = 13,\n",
    "          max_depth = 3)\n",
    "plt.show()"
   ]
  },
  {
   "cell_type": "markdown",
   "id": "8c52d311",
   "metadata": {},
   "source": [
    "### Limiting the depth of this chart allowed for better results"
   ]
  },
  {
   "cell_type": "code",
   "execution_count": 20,
   "id": "95c67064",
   "metadata": {},
   "outputs": [
    {
     "name": "stdout",
     "output_type": "stream",
     "text": [
      "   region  items  amount_label  in-store\n",
      "0       2      4             0         0\n",
      "1       2      2             0         0\n",
      "2       4      3             1         1\n",
      "3       3      3             0         1\n",
      "4       1      4             1         1\n",
      "0    3\n",
      "1    3\n",
      "2    4\n",
      "3    4\n",
      "4    3\n",
      "Name: age_label, dtype: int64\n"
     ]
    }
   ],
   "source": [
    "#Dependent variable of Age\n",
    "x = df[['region', 'items', 'amount_label', 'in-store']]\n",
    "print(x.head())\n",
    "\n",
    "y = df['age_label']\n",
    "print(y.head())"
   ]
  },
  {
   "cell_type": "code",
   "execution_count": 21,
   "id": "1fc54f17",
   "metadata": {},
   "outputs": [
    {
     "name": "stdout",
     "output_type": "stream",
     "text": [
      "Data shape (56000, 4) (56000,)\n"
     ]
    }
   ],
   "source": [
    " #Train and test for in-store dependent variable\n",
    "x_train, x_test, y_train, y_test = train_test_split(x, y, test_size = .30, random_state = 123)\n",
    "\n",
    "print('Data shape', x_train.shape, y_train.shape)"
   ]
  },
  {
   "cell_type": "code",
   "execution_count": 22,
   "id": "0a5e9987",
   "metadata": {},
   "outputs": [
    {
     "name": "stdout",
     "output_type": "stream",
     "text": [
      "Decision Tree Classifier 0.21583333333333332\n",
      "Random Tree Classifier 0.2152083333333333\n",
      "K Nearest Neighbors 0.20270833333333332\n"
     ]
    }
   ],
   "source": [
    "#Classification\n",
    "results = []\n",
    "names = []\n",
    "\n",
    "for name, model in algos_class:\n",
    "    result = cross_val_score (model, x_test, y_test, cv=5, scoring ='accuracy')\n",
    "    names.append(name)\n",
    "    results.append(result)\n",
    "    \n",
    "for i in range(len(names)):\n",
    "    print(names[i], results[i].mean())"
   ]
  },
  {
   "cell_type": "code",
   "execution_count": 23,
   "id": "c1f97f39",
   "metadata": {},
   "outputs": [
    {
     "name": "stdout",
     "output_type": "stream",
     "text": [
      "[array([0.21479167, 0.21395833, 0.21520833, 0.21520833, 0.22      ]), array([0.21270833, 0.21541667, 0.21666667, 0.21416667, 0.21708333]), array([0.19916667, 0.21208333, 0.20083333, 0.19791667, 0.20354167])]\n",
      "['Decision Tree Classifier', 'Random Tree Classifier', 'K Nearest Neighbors']\n",
      "K Nearest Neighbors\n",
      "KNeighborsClassifier(n_neighbors=3)\n",
      "[0.19916667 0.21208333 0.20083333 0.19791667 0.20354167]\n"
     ]
    }
   ],
   "source": [
    "print(results)\n",
    "print(names)\n",
    "print(name)\n",
    "print(model)\n",
    "print(result)"
   ]
  },
  {
   "cell_type": "code",
   "execution_count": 24,
   "id": "20298a99",
   "metadata": {},
   "outputs": [
    {
     "name": "stdout",
     "output_type": "stream",
     "text": [
      "              precision    recall  f1-score   support\n",
      "\n",
      "           1       0.00      0.00      0.00       288\n",
      "           2       0.24      0.18      0.21      3817\n",
      "           3       0.22      0.53      0.31      5278\n",
      "           4       0.22      0.28      0.24      5392\n",
      "           5       0.22      0.06      0.09      4385\n",
      "           6       0.00      0.00      0.00      2689\n",
      "           7       0.00      0.00      0.00      1560\n",
      "           8       0.00      0.00      0.00       591\n",
      "\n",
      "    accuracy                           0.22     24000\n",
      "   macro avg       0.11      0.13      0.11     24000\n",
      "weighted avg       0.17      0.22      0.17     24000\n",
      "\n"
     ]
    },
    {
     "name": "stderr",
     "output_type": "stream",
     "text": [
      "C:\\Users\\Public\\anaconda\\lib\\site-packages\\sklearn\\metrics\\_classification.py:1318: UndefinedMetricWarning: Precision and F-score are ill-defined and being set to 0.0 in labels with no predicted samples. Use `zero_division` parameter to control this behavior.\n",
      "  _warn_prf(average, modifier, msg_start, len(result))\n",
      "C:\\Users\\Public\\anaconda\\lib\\site-packages\\sklearn\\metrics\\_classification.py:1318: UndefinedMetricWarning: Precision and F-score are ill-defined and being set to 0.0 in labels with no predicted samples. Use `zero_division` parameter to control this behavior.\n",
      "  _warn_prf(average, modifier, msg_start, len(result))\n",
      "C:\\Users\\Public\\anaconda\\lib\\site-packages\\sklearn\\metrics\\_classification.py:1318: UndefinedMetricWarning: Precision and F-score are ill-defined and being set to 0.0 in labels with no predicted samples. Use `zero_division` parameter to control this behavior.\n",
      "  _warn_prf(average, modifier, msg_start, len(result))\n"
     ]
    }
   ],
   "source": [
    "#Modeling classification PoA needs () after decision tree\n",
    "algo = DecisionTreeClassifier(max_depth=3)\n",
    "dtcFit1 = algo.fit(x_train, y_train)\n",
    "\n",
    "#Prediction and report\n",
    "preds = dtcFit1.predict(x_test)\n",
    "print(classification_report(y_test, preds))"
   ]
  },
  {
   "cell_type": "code",
   "execution_count": 25,
   "id": "e7e00084",
   "metadata": {},
   "outputs": [
    {
     "name": "stdout",
     "output_type": "stream",
     "text": [
      "   region  items  in-store  age_label\n",
      "0       2      4         0          3\n",
      "1       2      2         0          3\n",
      "2       4      3         1          4\n",
      "3       3      3         1          4\n",
      "4       1      4         1          3\n",
      "0    0\n",
      "1    0\n",
      "2    1\n",
      "3    0\n",
      "4    1\n",
      "Name: amount_label, dtype: int64\n"
     ]
    }
   ],
   "source": [
    "#Dependent variable of Amount\n",
    "x = df[['region', 'items', 'in-store', 'age_label']]\n",
    "print(x.head())\n",
    "\n",
    "y = df['amount_label']\n",
    "print(y.head())"
   ]
  },
  {
   "cell_type": "code",
   "execution_count": 26,
   "id": "77d07480",
   "metadata": {},
   "outputs": [
    {
     "name": "stdout",
     "output_type": "stream",
     "text": [
      "Data shape (56000, 4) (56000,)\n"
     ]
    }
   ],
   "source": [
    " #Train and test for in-store dependent variable\n",
    "x_train, x_test, y_train, y_test = train_test_split(x, y, test_size = .30, random_state = 123)\n",
    "\n",
    "print('Data shape', x_train.shape, y_train.shape)"
   ]
  },
  {
   "cell_type": "code",
   "execution_count": 27,
   "id": "8e3f5cc4",
   "metadata": {},
   "outputs": [
    {
     "name": "stdout",
     "output_type": "stream",
     "text": [
      "Decision Tree Classifier 0.7091666666666667\n",
      "Random Tree Classifier 0.7091666666666667\n",
      "K Nearest Neighbors 0.6967083333333333\n"
     ]
    }
   ],
   "source": [
    "#Classification\n",
    "results = []\n",
    "names = []\n",
    "\n",
    "for name, model in algos_class:\n",
    "    result = cross_val_score (model, x_test, y_test, cv=5, scoring ='accuracy')\n",
    "    names.append(name)\n",
    "    results.append(result)\n",
    "    \n",
    "for i in range(len(names)):\n",
    "    print(names[i], results[i].mean())"
   ]
  },
  {
   "cell_type": "code",
   "execution_count": 28,
   "id": "9e76ad48",
   "metadata": {},
   "outputs": [
    {
     "name": "stdout",
     "output_type": "stream",
     "text": [
      "[array([0.71125   , 0.71416667, 0.71      , 0.70604167, 0.704375  ]), array([0.713125  , 0.71354167, 0.70979167, 0.70625   , 0.703125  ]), array([0.695625  , 0.691875  , 0.71145833, 0.68666667, 0.69791667])]\n",
      "['Decision Tree Classifier', 'Random Tree Classifier', 'K Nearest Neighbors']\n",
      "K Nearest Neighbors\n",
      "KNeighborsClassifier(n_neighbors=3)\n",
      "[0.695625   0.691875   0.71145833 0.68666667 0.69791667]\n"
     ]
    }
   ],
   "source": [
    "print(results)\n",
    "print(names)\n",
    "print(name)\n",
    "print(model)\n",
    "print(result)"
   ]
  },
  {
   "cell_type": "code",
   "execution_count": 29,
   "id": "54b14d28",
   "metadata": {},
   "outputs": [
    {
     "name": "stdout",
     "output_type": "stream",
     "text": [
      "              precision    recall  f1-score   support\n",
      "\n",
      "           0       0.84      0.83      0.83     16740\n",
      "           1       0.43      0.62      0.51      5226\n",
      "           2       0.00      0.00      0.00      2034\n",
      "\n",
      "    accuracy                           0.71     24000\n",
      "   macro avg       0.42      0.48      0.45     24000\n",
      "weighted avg       0.68      0.71      0.69     24000\n",
      "\n"
     ]
    },
    {
     "name": "stderr",
     "output_type": "stream",
     "text": [
      "C:\\Users\\Public\\anaconda\\lib\\site-packages\\sklearn\\metrics\\_classification.py:1318: UndefinedMetricWarning: Precision and F-score are ill-defined and being set to 0.0 in labels with no predicted samples. Use `zero_division` parameter to control this behavior.\n",
      "  _warn_prf(average, modifier, msg_start, len(result))\n",
      "C:\\Users\\Public\\anaconda\\lib\\site-packages\\sklearn\\metrics\\_classification.py:1318: UndefinedMetricWarning: Precision and F-score are ill-defined and being set to 0.0 in labels with no predicted samples. Use `zero_division` parameter to control this behavior.\n",
      "  _warn_prf(average, modifier, msg_start, len(result))\n",
      "C:\\Users\\Public\\anaconda\\lib\\site-packages\\sklearn\\metrics\\_classification.py:1318: UndefinedMetricWarning: Precision and F-score are ill-defined and being set to 0.0 in labels with no predicted samples. Use `zero_division` parameter to control this behavior.\n",
      "  _warn_prf(average, modifier, msg_start, len(result))\n"
     ]
    }
   ],
   "source": [
    "#Modeling classification PoA needs () after decision tree\n",
    "algo = DecisionTreeClassifier(max_depth=3)\n",
    "dtcFit1 = algo.fit(x_train, y_train)\n",
    "\n",
    "#Prediction and report\n",
    "preds = dtcFit1.predict(x_test)\n",
    "print(classification_report(y_test, preds))"
   ]
  },
  {
   "cell_type": "code",
   "execution_count": null,
   "id": "27ecedad",
   "metadata": {},
   "outputs": [],
   "source": []
  },
  {
   "cell_type": "code",
   "execution_count": null,
   "id": "df199de3",
   "metadata": {},
   "outputs": [],
   "source": []
  },
  {
   "cell_type": "code",
   "execution_count": null,
   "id": "f0863199",
   "metadata": {},
   "outputs": [],
   "source": []
  }
 ],
 "metadata": {
  "kernelspec": {
   "display_name": "Python 3 (ipykernel)",
   "language": "python",
   "name": "python3"
  },
  "language_info": {
   "codemirror_mode": {
    "name": "ipython",
    "version": 3
   },
   "file_extension": ".py",
   "mimetype": "text/x-python",
   "name": "python",
   "nbconvert_exporter": "python",
   "pygments_lexer": "ipython3",
   "version": "3.9.12"
  }
 },
 "nbformat": 4,
 "nbformat_minor": 5
}
